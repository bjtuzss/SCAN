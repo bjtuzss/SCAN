{
 "cells": [
  {
   "cell_type": "code",
   "execution_count": null,
   "metadata": {},
   "outputs": [],
   "source": [
    "import zipfile\n",
    "\n",
    "'''\n",
    "基本格式：zipfile.ZipFile(filename[,mode[,compression[,allowZip64]]])\n",
    "mode：可选 r,w,a 代表不同的打开文件的方式；r 只读；w 重写；a 添加\n",
    "compression：指出这个 zipfile 用什么压缩方法，默认是 ZIP_STORED，另一种选择是 ZIP_DEFLATED；\n",
    "allowZip64：bool型变量，当设置为True时可以创建大于 2G 的 zip 文件，默认值 True；\n",
    "\n",
    "'''\n",
    "zip_file = zipfile.ZipFile('./PSANet_PyTorch-.zip')\n",
    "zip_list = zip_file.namelist() # 得到压缩包里所有文件\n",
    "\n",
    "for f in zip_list:\n",
    "    zip_file.extract(f, '') # 循环解压文件到指定目录\n",
    " \n",
    "zip_file.close() # 关闭文件，必须有，释放内存"
   ]
  }
 ],
 "metadata": {
  "kernelspec": {
   "display_name": "Python 3",
   "language": "python",
   "name": "python3"
  },
  "language_info": {
   "codemirror_mode": {
    "name": "ipython",
    "version": 3
   },
   "file_extension": ".py",
   "mimetype": "text/x-python",
   "name": "python",
   "nbconvert_exporter": "python",
   "pygments_lexer": "ipython3",
   "version": "3.6.9"
  }
 },
 "nbformat": 4,
 "nbformat_minor": 4
}
